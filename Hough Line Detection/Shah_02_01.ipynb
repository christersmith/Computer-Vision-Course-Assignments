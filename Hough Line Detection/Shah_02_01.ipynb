{
 "cells": [
  {
   "cell_type": "markdown",
   "metadata": {},
   "source": [
    "### Shah, Jai\n",
    "### 1001-380-311\n",
    "### 2017-02-07\n",
    "### Assignment_02_01"
   ]
  },
  {
   "cell_type": "code",
   "execution_count": 22,
   "metadata": {},
   "outputs": [],
   "source": [
    "%matplotlib inline\n",
    "import cv2\n",
    "import matplotlib.pyplot as plt\n",
    "import matplotlib.colors\n",
    "import numpy as np\n",
    "from PIL import Image\n",
    "from skimage import data\n",
    "import scipy\n",
    "import math\n",
    "from scipy.ndimage import measurements\n",
    "from skimage import data\n",
    "from ipywidgets import interact, fixed, FloatSlider, IntSlider,FloatRangeSlider, Label"
   ]
  },
  {
   "cell_type": "code",
   "execution_count": 23,
   "metadata": {
    "collapsed": true
   },
   "outputs": [],
   "source": [
    "def display_line_result(og_img, hough_img, edges):\n",
    "    \n",
    "    current_image=data.checkerboard()\n",
    "    w, h = current_image.shape\n",
    "    output_image = np.empty((w, h, 3))\n",
    "    edges = cv2.Canny(current_image,50,150,apertureSize =3)\n",
    "    output_image[:, :, 2] =  output_image[:, :, 1] =  output_image[:, :, 0] =  current_image/255.\n",
    "    lines = cv2.HoughLines(edges,1,np.pi/180,120)\n",
    "    max_size=max(w,h)**2\n",
    "    for rho_theta in lines:\n",
    "        rho=rho_theta[0][0]\n",
    "        theta=rho_theta[0][1]\n",
    "        a = np.cos(theta)\n",
    "        b = np.sin(theta)\n",
    "        x0 = a*rho\n",
    "        y0 = b*rho\n",
    "        x1 = int(x0 + max_size*(-b))\n",
    "        y1 = int(y0 + max_size*(a))\n",
    "        x2 = int(x0 - max_size*(-b))\n",
    "        y2 = int(y0 - max_size*(a))\n",
    "        cv2.line(output_image,(x1,y1),(x2,y2),(1,0,0),1)\n",
    "    \n",
    "    \n",
    "    fig2, axes_array = plt.subplots(1, 4)\n",
    "    fig2.set_size_inches(9,3)\n",
    "    image_plot = axes_array[0].imshow(og_img,cmap=plt.cm.gray) \n",
    "    axes_array[0].axis('off')\n",
    "    axes_array[0].set(title='Original Image')\n",
    "    image_plot = axes_array[1].imshow(edges,cmap=plt.cm.gray)\n",
    "    axes_array[1].axis('off')\n",
    "    axes_array[1].set(title='Edged Image')\n",
    "    image_plot = axes_array[2].imshow(hough_img)\n",
    "    axes_array[2].axis('off')\n",
    "    axes_array[2].set(title='Hough Lines Image')\n",
    "    image_plot = axes_array[3].imshow(output_image)\n",
    "    axes_array[3].axis('off')\n",
    "    axes_array[3].set(title='Hough Lines Open CV')\n",
    "    plt.show()\n",
    "    return"
   ]
  },
  {
   "cell_type": "code",
   "execution_count": 24,
   "metadata": {
    "collapsed": true
   },
   "outputs": [],
   "source": [
    "def get_canny(og_img):\n",
    "    edged_image = cv2.Canny(og_img,50,150,apertureSize = 3)#current_image=data.checkerboard()\n",
    "    return edged_image"
   ]
  },
  {
   "cell_type": "code",
   "execution_count": 25,
   "metadata": {},
   "outputs": [
    {
     "name": "stderr",
     "output_type": "stream",
     "text": [
      "C:\\Anaconda3\\lib\\site-packages\\traitlets\\traitlets.py:567: FutureWarning: comparison to `None` will result in an elementwise object comparison in the future.\n",
      "  silent = bool(old_value == new_value)\n"
     ]
    },
    {
     "data": {
      "application/vnd.jupyter.widget-view+json": {
       "model_id": "dcb8223103284749be29b85c5a88449d"
      }
     },
     "metadata": {},
     "output_type": "display_data"
    },
    {
     "data": {
      "text/plain": [
       "<function __main__.hough_lines>"
      ]
     },
     "execution_count": 25,
     "metadata": {},
     "output_type": "execute_result"
    }
   ],
   "source": [
    "def hough_lines(og_img,rho_resolution,theta_resolution,threshold):\n",
    "    rho_theta_values = []\n",
    "    width, height = og_img.shape\n",
    "    hough_img = np.empty((width, height, 3))\n",
    "    hough_img[:, :, 2] =  hough_img[:, :, 1] =  hough_img[:, :, 0] =  og_img/255.\n",
    "    \n",
    "    digonal = math.sqrt(width*width + height*height)\n",
    "    max_size=max(width,height)**2\n",
    "    \n",
    "    thetas = np.linspace(0,180,theta_resolution+1)\n",
    "    rhos = np.linspace(-digonal,digonal,rho_resolution+1)\n",
    "   \n",
    "    acc = np.zeros((rho_resolution+1,theta_resolution+1))\n",
    "\n",
    "    for x_index in range(0, width):\n",
    "        for y_index in range(0, height):\n",
    "            if edges[x_index][y_index] > 0:\n",
    "                for t_index in range(0, len(thetas)):\n",
    "                    rho = x_index * math.cos(thetas[t_index]) + y_index * math.sin(thetas[t_index])\n",
    "                    for r_index in range(0, len(rhos)):\n",
    "                        if rhos[r_index]>rho:\n",
    "                            break\n",
    "                    acc[r_index][t_index] += 1\n",
    "   \n",
    "    for rho_value in range(0, len(rhos)):\n",
    "        for t_value in range(0, len(thetas)):\n",
    "            if acc[rho_value][t_value] >= threshold:\n",
    "                rho_theta_values.append([rhos[rho_value], thetas[t_value]])\n",
    "\n",
    "    \n",
    "    for rho_theta in rho_theta_values:\n",
    "        rho=rho_theta[0]\n",
    "        theta=rho_theta[1]\n",
    "        a = np.cos(theta)\n",
    "        b = np.sin(theta)\n",
    "        x0 = a*rho\n",
    "        y0 = b*rho\n",
    "        x1 = int(x0 + max_size*(-b))\n",
    "        y1 = int(y0 + max_size*(a))\n",
    "        x2 = int(x0 - max_size*(-b))\n",
    "        y2 = int(y0 - max_size*(a))\n",
    "        cv2.line(hough_img,(x1,y1),(x2,y2),(1,0,0),1)\n",
    "    \n",
    "    display_line_result(og_img, hough_img, edges)\n",
    "    return\n",
    "    \n",
    "og_img = data.checkerboard()\n",
    "edges = get_canny(og_img)\n",
    "\n",
    "interact(hough_lines,\n",
    "         og_img = fixed(og_img),\n",
    "         rho_resolution=IntSlider(min=10, max=1000, step=1,value=150,continuous_update=False),\n",
    "         theta_resolution=IntSlider(min=10, max=1000, step=1,value=360,continuous_update=False),\n",
    "         threshold=IntSlider(min=5, max=1000, step=1,value=180,continuous_update=False)) "
   ]
  },
  {
   "cell_type": "code",
   "execution_count": 26,
   "metadata": {
    "collapsed": true
   },
   "outputs": [],
   "source": [
    "def display_circle_result(circle_img, hough_img, edges):\n",
    "    \n",
    "    current_image=data.checkerboard()\n",
    "    w, h = current_image.shape\n",
    "    output_image = np.empty((w, h, 3))\n",
    "    edges = cv2.Canny(current_image,50,150,apertureSize =3)\n",
    "    output_image[:, :, 2] =  output_image[:, :, 1] =  output_image[:, :, 0] =  current_image/255.\n",
    "    lines = cv2.HoughLines(edges,1,np.pi/180,120)\n",
    "    max_size=max(w,h)**2\n",
    "    for rho_theta in lines:\n",
    "        rho=rho_theta[0][0]\n",
    "        theta=rho_theta[0][1]\n",
    "        a = np.cos(theta)\n",
    "        b = np.sin(theta)\n",
    "        x0 = a*rho\n",
    "        y0 = b*rho\n",
    "        x1 = int(x0 + max_size*(-b))\n",
    "        y1 = int(y0 + max_size*(a))\n",
    "        x2 = int(x0 - max_size*(-b))\n",
    "        y2 = int(y0 - max_size*(a))\n",
    "        cv2.line(output_image,(x1,y1),(x2,y2),(1,0,0),1)\n",
    "    \n",
    "    \n",
    "    fig2, axes_array = plt.subplots(1, 4)\n",
    "    fig2.set_size_inches(9,3)\n",
    "    image_plot = axes_array[0].imshow(circle_img,cmap=plt.cm.gray) \n",
    "    axes_array[0].axis('off')\n",
    "    axes_array[0].set(title='Original Image')\n",
    "    image_plot = axes_array[1].imshow(edges,cmap=plt.cm.gray)\n",
    "    axes_array[1].axis('off')\n",
    "    axes_array[1].set(title='Edged Image')\n",
    "    image_plot = axes_array[2].imshow(hough_img)\n",
    "    axes_array[2].axis('off')\n",
    "    axes_array[2].set(title='Hough Lines Image')\n",
    "    image_plot = axes_array[3].imshow(output_image)\n",
    "    axes_array[3].axis('off')\n",
    "    axes_array[3].set(title='Hough Lines Open CV')\n",
    "    plt.show()"
   ]
  },
  {
   "cell_type": "code",
   "execution_count": 28,
   "metadata": {},
   "outputs": [
    {
     "name": "stderr",
     "output_type": "stream",
     "text": [
      "C:\\Anaconda3\\lib\\site-packages\\traitlets\\traitlets.py:567: FutureWarning: comparison to `None` will result in an elementwise object comparison in the future.\n",
      "  silent = bool(old_value == new_value)\n"
     ]
    },
    {
     "data": {
      "application/vnd.jupyter.widget-view+json": {
       "model_id": "31a1f10470a14fc090cf66891d41e98e"
      }
     },
     "metadata": {},
     "output_type": "display_data"
    }
   ],
   "source": [
    "def display_circle_result(hough_img):\n",
    "    \n",
    "    fig2, axes_array = plt.subplots(1, 3)\n",
    "    fig2.set_size_inches(9, 9)\n",
    "    image_plot = axes_array[0].imshow(circle_image,cmap=plt.cm.gray) \n",
    "    axes_array[0].axis('off')\n",
    "    axes_array[0].set(title='Original Image')\n",
    "    image_plot = axes_array[1].imshow(edge_img,cmap=plt.cm.gray)\n",
    "    axes_array[1].axis('off')\n",
    "    axes_array[1].set(title='Edged Image')\n",
    "    image_plot = axes_array[2].imshow(hough_img)\n",
    "    axes_array[2].axis('off')\n",
    "    axes_array[2].set(title='Hough Circles Image')\n",
    "    plt.show()\n",
    "    return\n",
    "\n",
    "def canny(og_img):\n",
    "    edged_image = cv2.Canny(og_img,50,150,apertureSize = 3)\n",
    "    return edged_image\n",
    "\n",
    "def hough_circles(input_image, resolution, threshold, min_radius, max_radius):\n",
    "    #canny_edge_circle = cv2.Canny(input_image,50,150,apertureSize = 3)\n",
    "    canny_edge_circle = cv2.Canny(input_image, 32, 2)\n",
    "   \n",
    "    w,h = canny_edge_circle.shape\n",
    "    digonal = np.sqrt(w**2+h**2)\n",
    "    \n",
    "    radius_bin = np.linspace(min_radius,max_radius,resolution)\n",
    "    a_bin = np.linspace(w-resolution,w+resolution,resolution)\n",
    "    b_bin = np.linspace(h-resolution,h+resolution,resolution)\n",
    "    theta_bin = np.linspace(0,360,360)\n",
    "    \n",
    "    accumulator = np.zeros((resolution,resolution,resolution))\n",
    " \n",
    "    for x in range(w):\n",
    "        for y in range(h):\n",
    "            if canny_edge_circle[x][y] == 255:\n",
    "                for r in radius_bin:\n",
    "                    for t in theta_bin:\n",
    "                        a = x - (r * np.cos(t * np.pi / 180));\n",
    "                        b = y - (r * np.sin(t * np.pi / 180));\n",
    "\n",
    "                        for n in range(0,len(a_bin)):\n",
    "                            if a_bin[n]>a:\n",
    "                                break\n",
    "                        for m in range(0,len(b_bin)):\n",
    "                            if b_bin[m]>b:\n",
    "                                break\n",
    "                        for o in range(0,len(radius_bin)):\n",
    "                            if radius_bin[o]>r:\n",
    "                                break\n",
    "                        accumulator[o,n,m] = accumulator[o,n,m] + 1;\n",
    "    \n",
    "    circles = []\n",
    "    for i in range(0,len(radius_bin)):\n",
    "            v = np.max(accumulator[i,:,:])\n",
    "            a_idxs, b_idxs = np.where(accumulator[i,:,:]==v)\n",
    "            for j in range(0,len(a_idxs)):\n",
    "                circle = []\n",
    "                circle.append((int)(np.ceil(a_bin[a_idxs[j]])))\n",
    "                circle.append((int)(np.ceil(b_bin[b_idxs[j]])))\n",
    "                circle.append((int)(np.ceil(radius_bin[i])))\n",
    "                circles.append(circle)\n",
    "                \n",
    "    for i in circles:\n",
    "        # draw the outer circle\n",
    "        cv2.circle(input_image,(i[0],i[1]),i[2],(0,255,0),2)\n",
    "        # draw the center of the circle\n",
    "        cv2.circle(input_image,(i[0],i[1]),2,(0,0,255),3)\n",
    "       \n",
    "        \n",
    "    display_circle_result(input_image)\n",
    "    return\n",
    "    \n",
    "\n",
    "circle_image = cv2.imread(\"Circle.PNG\", cv2.IMREAD_GRAYSCALE)\n",
    "input_image = cv2.imread(\"Circle.PNG\")\n",
    "edge_img = canny(circle_image)\n",
    "\n",
    "\n",
    "interact(hough_circles,input_image = fixed(input_image), \n",
    "         resolution = IntSlider(min=10, max = 1000, step = 1, value = 100, continuous_update=False),\n",
    "        threshold = IntSlider(min=10, max = 1000, step=1, value = 100, continuous_update=False),\n",
    "        min_radius = IntSlider(min = 10, max = 1000, step=1, value = 30, continuous_update=False),\n",
    "        max_radius = IntSlider(min = 10, max = 1000, step=1, value = 50, continuous_update=False));"
   ]
  },
  {
   "cell_type": "code",
   "execution_count": null,
   "metadata": {
    "collapsed": true
   },
   "outputs": [],
   "source": []
  }
 ],
 "metadata": {
  "kernelspec": {
   "display_name": "Python [Root]",
   "language": "python",
   "name": "Python [Root]"
  },
  "language_info": {
   "codemirror_mode": {
    "name": "ipython",
    "version": 3
   },
   "file_extension": ".py",
   "mimetype": "text/x-python",
   "name": "python",
   "nbconvert_exporter": "python",
   "pygments_lexer": "ipython3",
   "version": "3.5.2"
  }
 },
 "nbformat": 4,
 "nbformat_minor": 1
}
